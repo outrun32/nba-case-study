{
 "cells": [
  {
   "cell_type": "code",
   "execution_count": 9,
   "metadata": {},
   "outputs": [],
   "source": [
    "import pandas as pd\n",
    "import statsmodels.api as sm\n",
    "import numpy as np\n",
    "from sklearn.cluster import KMeans\n",
    "import matplotlib.pyplot as plt\n",
    "from sklearn.preprocessing import StandardScaler\n",
    "import seaborn as sns\n"
   ]
  },
  {
   "cell_type": "code",
   "execution_count": 10,
   "metadata": {},
   "outputs": [],
   "source": [
    "df_wemby = pd.read_csv('wemby_2024_individual.csv')\n",
    "df_dpoy = pd.read_csv('dpoy_winners.csv')"
   ]
  },
  {
   "cell_type": "code",
   "execution_count": 11,
   "metadata": {},
   "outputs": [],
   "source": [
    "df = pd.concat([df_wemby, df_dpoy], axis=0)"
   ]
  },
  {
   "cell_type": "code",
   "execution_count": 12,
   "metadata": {},
   "outputs": [
    {
     "data": {
      "text/html": [
       "<div>\n",
       "<style scoped>\n",
       "    .dataframe tbody tr th:only-of-type {\n",
       "        vertical-align: middle;\n",
       "    }\n",
       "\n",
       "    .dataframe tbody tr th {\n",
       "        vertical-align: top;\n",
       "    }\n",
       "\n",
       "    .dataframe thead th {\n",
       "        text-align: right;\n",
       "    }\n",
       "</style>\n",
       "<table border=\"1\" class=\"dataframe\">\n",
       "  <thead>\n",
       "    <tr style=\"text-align: right;\">\n",
       "      <th></th>\n",
       "      <th>MIN</th>\n",
       "      <th>REB</th>\n",
       "      <th>STL</th>\n",
       "      <th>BLK</th>\n",
       "      <th>BLK/48</th>\n",
       "      <th>REB/48</th>\n",
       "      <th>STL/48</th>\n",
       "      <th>Name</th>\n",
       "      <th>Date</th>\n",
       "      <th>Is_DPOY</th>\n",
       "    </tr>\n",
       "  </thead>\n",
       "  <tbody>\n",
       "    <tr>\n",
       "      <th>0</th>\n",
       "      <td>23.0</td>\n",
       "      <td>5</td>\n",
       "      <td>2</td>\n",
       "      <td>1</td>\n",
       "      <td>2.086957</td>\n",
       "      <td>10.434783</td>\n",
       "      <td>4.173913</td>\n",
       "      <td>Victor Wembanyama</td>\n",
       "      <td>2023-24</td>\n",
       "      <td>False</td>\n",
       "    </tr>\n",
       "    <tr>\n",
       "      <th>1</th>\n",
       "      <td>31.0</td>\n",
       "      <td>12</td>\n",
       "      <td>3</td>\n",
       "      <td>3</td>\n",
       "      <td>4.645161</td>\n",
       "      <td>18.580645</td>\n",
       "      <td>4.645161</td>\n",
       "      <td>Victor Wembanyama</td>\n",
       "      <td>2023-24</td>\n",
       "      <td>False</td>\n",
       "    </tr>\n",
       "    <tr>\n",
       "      <th>2</th>\n",
       "      <td>26.0</td>\n",
       "      <td>5</td>\n",
       "      <td>1</td>\n",
       "      <td>1</td>\n",
       "      <td>1.846154</td>\n",
       "      <td>9.230769</td>\n",
       "      <td>1.846154</td>\n",
       "      <td>Victor Wembanyama</td>\n",
       "      <td>2023-24</td>\n",
       "      <td>False</td>\n",
       "    </tr>\n",
       "    <tr>\n",
       "      <th>3</th>\n",
       "      <td>28.0</td>\n",
       "      <td>8</td>\n",
       "      <td>0</td>\n",
       "      <td>4</td>\n",
       "      <td>6.857143</td>\n",
       "      <td>13.714286</td>\n",
       "      <td>0.000000</td>\n",
       "      <td>Victor Wembanyama</td>\n",
       "      <td>2023-24</td>\n",
       "      <td>False</td>\n",
       "    </tr>\n",
       "    <tr>\n",
       "      <th>4</th>\n",
       "      <td>34.0</td>\n",
       "      <td>10</td>\n",
       "      <td>1</td>\n",
       "      <td>2</td>\n",
       "      <td>2.823529</td>\n",
       "      <td>14.117647</td>\n",
       "      <td>1.411765</td>\n",
       "      <td>Victor Wembanyama</td>\n",
       "      <td>2023-24</td>\n",
       "      <td>False</td>\n",
       "    </tr>\n",
       "    <tr>\n",
       "      <th>...</th>\n",
       "      <td>...</td>\n",
       "      <td>...</td>\n",
       "      <td>...</td>\n",
       "      <td>...</td>\n",
       "      <td>...</td>\n",
       "      <td>...</td>\n",
       "      <td>...</td>\n",
       "      <td>...</td>\n",
       "      <td>...</td>\n",
       "      <td>...</td>\n",
       "    </tr>\n",
       "    <tr>\n",
       "      <th>2556</th>\n",
       "      <td>35.0</td>\n",
       "      <td>16</td>\n",
       "      <td>1</td>\n",
       "      <td>5</td>\n",
       "      <td>6.857143</td>\n",
       "      <td>21.942857</td>\n",
       "      <td>1.371429</td>\n",
       "      <td>Ben Wallace</td>\n",
       "      <td>2004-05</td>\n",
       "      <td>True</td>\n",
       "    </tr>\n",
       "    <tr>\n",
       "      <th>2557</th>\n",
       "      <td>42.0</td>\n",
       "      <td>11</td>\n",
       "      <td>2</td>\n",
       "      <td>1</td>\n",
       "      <td>1.142857</td>\n",
       "      <td>12.571429</td>\n",
       "      <td>2.285714</td>\n",
       "      <td>Ben Wallace</td>\n",
       "      <td>2005-06</td>\n",
       "      <td>True</td>\n",
       "    </tr>\n",
       "    <tr>\n",
       "      <th>2558</th>\n",
       "      <td>42.0</td>\n",
       "      <td>11</td>\n",
       "      <td>2</td>\n",
       "      <td>1</td>\n",
       "      <td>1.142857</td>\n",
       "      <td>12.571429</td>\n",
       "      <td>2.285714</td>\n",
       "      <td>Ben Wallace</td>\n",
       "      <td>2004-05</td>\n",
       "      <td>True</td>\n",
       "    </tr>\n",
       "    <tr>\n",
       "      <th>2559</th>\n",
       "      <td>38.0</td>\n",
       "      <td>10</td>\n",
       "      <td>3</td>\n",
       "      <td>3</td>\n",
       "      <td>3.789474</td>\n",
       "      <td>12.631579</td>\n",
       "      <td>3.789474</td>\n",
       "      <td>Ben Wallace</td>\n",
       "      <td>2005-06</td>\n",
       "      <td>True</td>\n",
       "    </tr>\n",
       "    <tr>\n",
       "      <th>2560</th>\n",
       "      <td>38.0</td>\n",
       "      <td>10</td>\n",
       "      <td>3</td>\n",
       "      <td>3</td>\n",
       "      <td>3.789474</td>\n",
       "      <td>12.631579</td>\n",
       "      <td>3.789474</td>\n",
       "      <td>Ben Wallace</td>\n",
       "      <td>2004-05</td>\n",
       "      <td>True</td>\n",
       "    </tr>\n",
       "  </tbody>\n",
       "</table>\n",
       "<p>2618 rows × 10 columns</p>\n",
       "</div>"
      ],
      "text/plain": [
       "       MIN  REB  STL  BLK    BLK/48     REB/48    STL/48               Name  \\\n",
       "0     23.0    5    2    1  2.086957  10.434783  4.173913  Victor Wembanyama   \n",
       "1     31.0   12    3    3  4.645161  18.580645  4.645161  Victor Wembanyama   \n",
       "2     26.0    5    1    1  1.846154   9.230769  1.846154  Victor Wembanyama   \n",
       "3     28.0    8    0    4  6.857143  13.714286  0.000000  Victor Wembanyama   \n",
       "4     34.0   10    1    2  2.823529  14.117647  1.411765  Victor Wembanyama   \n",
       "...    ...  ...  ...  ...       ...        ...       ...                ...   \n",
       "2556  35.0   16    1    5  6.857143  21.942857  1.371429        Ben Wallace   \n",
       "2557  42.0   11    2    1  1.142857  12.571429  2.285714        Ben Wallace   \n",
       "2558  42.0   11    2    1  1.142857  12.571429  2.285714        Ben Wallace   \n",
       "2559  38.0   10    3    3  3.789474  12.631579  3.789474        Ben Wallace   \n",
       "2560  38.0   10    3    3  3.789474  12.631579  3.789474        Ben Wallace   \n",
       "\n",
       "         Date  Is_DPOY  \n",
       "0     2023-24    False  \n",
       "1     2023-24    False  \n",
       "2     2023-24    False  \n",
       "3     2023-24    False  \n",
       "4     2023-24    False  \n",
       "...       ...      ...  \n",
       "2556  2004-05     True  \n",
       "2557  2005-06     True  \n",
       "2558  2004-05     True  \n",
       "2559  2005-06     True  \n",
       "2560  2004-05     True  \n",
       "\n",
       "[2618 rows x 10 columns]"
      ]
     },
     "execution_count": 12,
     "metadata": {},
     "output_type": "execute_result"
    }
   ],
   "source": [
    "#If players name is not Victor Wembanyama, then they are DPOY\n",
    "df['Is_DPOY'] = df['Name'] != 'Victor Wembanyama'\n",
    "df"
   ]
  },
  {
   "cell_type": "code",
   "execution_count": 19,
   "metadata": {},
   "outputs": [
    {
     "data": {
      "text/plain": [
       "{'BLK/48': (0.10236898198119287, 0.5542059127260285),\n",
       " 'REB/48': (0.05868715497438337, 0.9829656925600124),\n",
       " 'STL/48': (0.16211811325976133, 0.08912166794890641)}"
      ]
     },
     "execution_count": 19,
     "metadata": {},
     "output_type": "execute_result"
    }
   ],
   "source": [
    "#Perform Kolmogorov-smirnov test to see whether the data is normally distributed\n",
    "from scipy.stats import kstest\n",
    "\n",
    "ks_results = {}\n",
    "for stat in [\"BLK/48\", \"REB/48\", \"STL/48\"]:\n",
    "    ks_stat, ks_p_value = kstest(df_wemby[stat], 'norm', args=(df_wemby[stat].mean(), df_wemby[stat].std()))\n",
    "    ks_results[stat] = (ks_stat, ks_p_value)\n",
    "\n",
    "ks_results"
   ]
  },
  {
   "attachments": {},
   "cell_type": "markdown",
   "metadata": {},
   "source": [
    "From Kolmogorov-Smirnov test, we see that all of Wembanyama's defensive stats follow normal distribution. So, we can use Z-score to compare his stats with other players."
   ]
  },
  {
   "attachments": {},
   "cell_type": "markdown",
   "metadata": {},
   "source": [
    "Let's do a simple t-test to check whether there are significant difference between defensive metrics among DPOY winners"
   ]
  },
  {
   "cell_type": "code",
   "execution_count": 13,
   "metadata": {},
   "outputs": [
    {
     "name": "stdout",
     "output_type": "stream",
     "text": [
      "BLK/48 - t-statistic: 5.813854028632058, p-value: 2.8581623861035486e-07\n",
      "REB/48 - t-statistic: 1.412922362919354, p-value: 0.16293599742134537\n",
      "STL/48 - t-statistic: 1.378830840586916, p-value: 0.17327703560721278\n"
     ]
    }
   ],
   "source": [
    "from scipy.stats import ttest_ind\n",
    "metrics = [\"BLK/48\", \"REB/48\", \"STL/48\"]\n",
    "t_test_results = {}\n",
    "\n",
    "for metric in metrics:\n",
    "    wemby_stats = df[df['Name'] == 'Victor Wembanyama'][metric]\n",
    "    dpoy_stats = df[df['Is_DPOY']][metric]\n",
    "    \n",
    "    t_stat, p_val = ttest_ind(wemby_stats, dpoy_stats, equal_var=False)\n",
    "    t_test_results[metric] = {'t_stat': t_stat, 'p_val': p_val}\n",
    "for metric, results in t_test_results.items():\n",
    "    print(f\"{metric} - t-statistic: {results['t_stat']}, p-value: {results['p_val']}\")"
   ]
  },
  {
   "attachments": {},
   "cell_type": "markdown",
   "metadata": {},
   "source": [
    "What do they mean?\n",
    "1. BLK/48 t-stat = 5.81, p-value=2.85e-07\n",
    "Since p-value is significantly less than 0.05, we reject the null hypothesis and conclude that there is a significant difference in BLK/48 between DPOY winners and Victor Wembanyama, and since the t-stat is positive, we can conclude that DPOY winners have lower BLK/48 than Victor Wembanyama.\n",
    "2. REB/48 t-stat = 1.41, p-value = 0.16\n",
    "Since p-value is significantly greater than 0.05, we fail to reject the null hypothesis and conclude that there is no significant difference in REB/48 between DPOY winners and Victor Wembanyama.\n",
    "3. STL/48 t-stat = 1.38, p-value = 0.17\n",
    "Since p-value is significantly greater than 0.05, we fail to reject the null hypothesis and conclude that there is no significant difference in STL/48 between DPOY winners and Victor Wembanyama.\n",
    "\n",
    "In summary:\n",
    "Wembanyama's block rate is significantly different and higher than that of DPOY winners of previous seasons.\n",
    "There is no statistically significant difference in the rebound and steal rates per 48 minutes when comparing Wembanyama to DPOY winners, based on the data you have.\n"
   ]
  },
  {
   "cell_type": "code",
   "execution_count": 17,
   "metadata": {},
   "outputs": [
    {
     "data": {
      "image/png": "[encoded data removed]",
      "text/plain": [
       "<Figure size 1500x500 with 3 Axes>"
      ]
     },
     "metadata": {},
     "output_type": "display_data"
    }
   ],
   "source": [
    "#The plots show that Victor Wembanyama is better than the average DPOY in all three metrics\n",
    "melted_df = df.melt(id_vars=['Name', 'Is_DPOY'], value_vars=[\"BLK/48\", \"REB/48\", \"STL/48\"], var_name='Metric', value_name='Value')\n",
    "#Boxplots\n",
    "plt.subplots(1, 3, figsize=(15, 5))\n",
    "for i, metric in enumerate(metrics):\n",
    "    plt.subplot(1, 3, i + 1)\n",
    "    plt.title(metric)\n",
    "    sns.boxplot(x='Is_DPOY', y='Value', data=melted_df[melted_df['Metric'] == metric], showmeans=True, legend='full')"
   ]
  },
  {
   "attachments": {},
   "cell_type": "markdown",
   "metadata": {},
   "source": [
    "Comparing to Average DPOY winner, Victor Wembanyama is better at blocking shots, but not as good at rebounding and stealing the ball. All of this, while he's still a rookie is beyond impressive!"
   ]
  }
 ],
 "metadata": {
  "kernelspec": {
   "display_name": "stattech",
   "language": "python",
   "name": "python3"
  },
  "language_info": {
   "codemirror_mode": {
    "name": "ipython",
    "version": 3
   },
   "file_extension": ".py",
   "mimetype": "text/x-python",
   "name": "python",
   "nbconvert_exporter": "python",
   "pygments_lexer": "ipython3",
   "version": "3.12.1"
  },
  "orig_nbformat": 4
 },
 "nbformat": 4,
 "nbformat_minor": 2
}
